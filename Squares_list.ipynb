{
 "cells": [
  {
   "cell_type": "code",
   "execution_count": 1,
   "id": "796b07c3",
   "metadata": {},
   "outputs": [
    {
     "name": "stdout",
     "output_type": "stream",
     "text": [
      "Square the elements of list:  [16, 25, 4, 81]\n"
     ]
    }
   ],
   "source": [
    "inList = [4, 5, 2, 9]\n",
    "def square(n):\n",
    "    return n**2\n",
    "sqr_list = list(map(square, inList))\n",
    "print(\"Square the elements of list: \",sqr_list)"
   ]
  },
  {
   "cell_type": "code",
   "execution_count": null,
   "id": "1b91c18e",
   "metadata": {},
   "outputs": [],
   "source": []
  }
 ],
 "metadata": {
  "kernelspec": {
   "display_name": "Python 3",
   "language": "python",
   "name": "python3"
  },
  "language_info": {
   "codemirror_mode": {
    "name": "ipython",
    "version": 3
   },
   "file_extension": ".py",
   "mimetype": "text/x-python",
   "name": "python",
   "nbconvert_exporter": "python",
   "pygments_lexer": "ipython3",
   "version": "3.8.8"
  }
 },
 "nbformat": 4,
 "nbformat_minor": 5
}
